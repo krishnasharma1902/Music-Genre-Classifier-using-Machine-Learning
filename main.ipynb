{
 "cells": [
  {
   "cell_type": "code",
   "execution_count": 15,
   "id": "e8ef0a12",
   "metadata": {},
   "outputs": [],
   "source": [
    "from python_speech_features import mfcc\n",
    "import scipy.io.wavfile as wav\n",
    "import numpy as np\n",
    "\n",
    "from tempfile import TemporaryFile\n",
    "\n",
    "import os\n",
    "import pickle\n",
    "import random\n",
    "import operator\n",
    "\n",
    "import math"
   ]
  },
  {
   "cell_type": "code",
   "execution_count": null,
   "id": "e15def18",
   "metadata": {},
   "outputs": [],
   "source": []
  },
  {
   "cell_type": "code",
   "execution_count": 16,
   "id": "4a1d28c8",
   "metadata": {},
   "outputs": [],
   "source": [
    "# function to get the distance between feature vectors and find neighbors\n",
    "def getNeighbors(trainingSet, instance, k):\n",
    "    distances = []\n",
    "    for x in range(len(trainingSet)):\n",
    "        dist = distance(trainingSet[x], instance, k) + distance(instance, trainingSet[x], k)\n",
    "        distances.append((trainingSet[x][2], dist))\n",
    "\n",
    "    distances.sort(key=operator.itemgetter(1))\n",
    "    neighbors = []\n",
    "    for x in range(k):                               \n",
    "        neighbors.append(distances[x][0])\n",
    "#     print(distances)\n",
    "#     print(len(neighbors))\n",
    "    return neighbors\n"
   ]
  },
  {
   "cell_type": "code",
   "execution_count": 17,
   "id": "46e57a5d",
   "metadata": {},
   "outputs": [],
   "source": [
    "# identify the class of the instance\n",
    "def nearestClass(neighbors):\n",
    "    classVote = {}                     \n",
    "\n",
    "    for x in range(len(neighbors)):\n",
    "        response = neighbors[x]\n",
    "        if response in classVote:\n",
    "            classVote[response] += 1\n",
    "        else:\n",
    "            classVote[response] = 1\n",
    "\n",
    "    sorter = sorted(classVote.items(), key = operator.itemgetter(1), reverse=True)      \n",
    "\n",
    "    return sorter[0][0]                       "
   ]
  },
  {
   "cell_type": "code",
   "execution_count": 18,
   "id": "7f4fb5de",
   "metadata": {},
   "outputs": [],
   "source": [
    "# function to evaluate the model\n",
    "def getAccuracy(testSet, prediction):\n",
    "    correct = 0\n",
    "    for x in range(len(testSet)):\n",
    "        if testSet[x][-1] == predictions[x]:           \n",
    "            correct += 1\n",
    "    \n",
    "    return (1.0 * correct) / len(testSet)"
   ]
  },
  {
   "cell_type": "code",
   "execution_count": 19,
   "id": "39724058",
   "metadata": {},
   "outputs": [
    {
     "name": "stdout",
     "output_type": "stream",
     "text": [
      "Got an exception:  File format b'\\xcb\\x15\\x1e\\x16' not understood. Only 'RIFF' and 'RIFX' supported.  in folder:  jazz  filename:  jazz.00054.wav\n"
     ]
    }
   ],
   "source": [
    "# directory that holds the wav files\n",
    "directory = \"./Data/genres_original/\"         \n",
    "\n",
    "# binary file where we will collect all the features extracted using mfcc (Mel Frequency Cepstral Coefficients)\n",
    "f = open(\"my.dat\", 'wb')\n",
    "\n",
    "i = 0\n",
    "\n",
    "for folder in os.listdir(directory):            \n",
    "    i += 1\n",
    "    if i == 11:\n",
    "        break\n",
    "    for file in os.listdir(directory+folder):           \n",
    "        try:\n",
    "            (rate, sig) = wav.read(directory+folder+\"/\"+file)\n",
    "            mfcc_feat = mfcc(sig, rate, winlen=0.020, appendEnergy=False)          \n",
    "            covariance = np.cov(np.matrix.transpose(mfcc_feat))                \n",
    "            mean_matrix = mfcc_feat.mean(0)                                              \n",
    "            feature = (mean_matrix, covariance, i)                          \n",
    "            pickle.dump(feature, f)                                        \n",
    "        except Exception as e:\n",
    "            print('Got an exception: ', e, ' in folder: ', folder, ' filename: ', file)        \n",
    "\n",
    "f.close()"
   ]
  },
  {
   "cell_type": "code",
   "execution_count": 24,
   "id": "4f06e025",
   "metadata": {},
   "outputs": [],
   "source": [
    "# Split the dataset into training and testing sets respectively\n",
    "dataset = []                       \n",
    "\n",
    "def loadDataset(filename, split, trSet, teSet):                        \n",
    "    with open('my.dat', 'rb') as f:                  \n",
    "        while True:\n",
    "            try:\n",
    "                dataset.append(pickle.load(f))\n",
    "            except EOFError:\n",
    "                f.close()\n",
    "                break\n",
    "    for x in range(len(dataset)):\n",
    "        if random.random() < split:\n",
    "            trSet.append(dataset[x])\n",
    "        else:\n",
    "            teSet.append(dataset[x])\n",
    "trainingSet = []\n",
    "testSet = []\n",
    "loadDataset('my.dat', 0.66, trainingSet, testSet)"
   ]
  },
  {
   "cell_type": "code",
   "execution_count": 21,
   "id": "a0d6bf51",
   "metadata": {},
   "outputs": [],
   "source": [
    "def distance(instance1 , instance2 , k ):\n",
    "    distance =0 \n",
    "    mm1 = instance1[0] \n",
    "    cm1 = instance1[1]\n",
    "    mm2 = instance2[0]\n",
    "    cm2 = instance2[1]\n",
    "    distance = np.trace(np.dot(np.linalg.inv(cm2), cm1)) \n",
    "    distance+=(np.dot(np.dot((mm2-mm1).transpose() , np.linalg.inv(cm2)) , mm2-mm1 )) \n",
    "    distance+= np.log(np.linalg.det(cm2)) - np.log(np.linalg.det(cm1))\n",
    "    distance-= k\n",
    "    return distance"
   ]
  },
  {
   "cell_type": "code",
   "execution_count": 22,
   "id": "8f45211a",
   "metadata": {},
   "outputs": [
    {
     "name": "stdout",
     "output_type": "stream",
     "text": [
      "0.7024793388429752\n"
     ]
    }
   ],
   "source": [
    "# making predictions using KNN\n",
    "leng = len(testSet)\n",
    "predictions = []     \n",
    "for x in range(leng):\n",
    "    predictions.append(nearestClass(getNeighbors(trainingSet, testSet[x], 5)))\n",
    "\n",
    "accuracy1 = getAccuracy(testSet, predictions)\n",
    "print(accuracy1)"
   ]
  },
  {
   "cell_type": "code",
   "execution_count": 10,
   "id": "003b1ce3",
   "metadata": {},
   "outputs": [],
   "source": [
    "# testing the code with external samples\n",
    "# URL: https://uweb.engr.arizona.edu/~429rns/audiofiles/audiofiles.html\n",
    "\n",
    "# test_dir = \"./Test/\"\n",
    "# # test_file = test_dir + \"test.wav\"\n",
    "# test_file = test_dir + \"test5.wav\"\n",
    "# # test_file = test_dir + \"test4.wav\""
   ]
  },
  {
   "cell_type": "code",
   "execution_count": 11,
   "id": "01f0b6f1",
   "metadata": {},
   "outputs": [],
   "source": [
    "# (rate, sig) = wav.read(test_file)\n",
    "# mfcc_feat = mfcc(sig, rate, winlen=0.020, appendEnergy=False)\n",
    "# covariance = np.cov(np.matrix.transpose(mfcc_feat))\n",
    "# mean_matrix = mfcc_feat.mean(0)\n",
    "# feature = (mean_matrix, covariance, i)"
   ]
  },
  {
   "cell_type": "code",
   "execution_count": 12,
   "id": "ef405d08",
   "metadata": {},
   "outputs": [],
   "source": [
    "# from collections import defaultdict\n",
    "# results = defaultdict(int)\n",
    "\n",
    "# directory = \"./Data/genres_original/\"\n",
    "\n",
    "# i = 1\n",
    "# for folder in os.listdir(directory):\n",
    "#     results[i] = folder\n",
    "#     i += 1"
   ]
  },
  {
   "cell_type": "code",
   "execution_count": 13,
   "id": "9b3ece3a",
   "metadata": {},
   "outputs": [],
   "source": [
    "# pred = nearestClass(getNeighbors(dataset, feature, 5))\n",
    "# print(results[pred])"
   ]
  },
  {
   "cell_type": "code",
   "execution_count": null,
   "id": "1c5ac889",
   "metadata": {},
   "outputs": [],
   "source": []
  },
  {
   "cell_type": "code",
   "execution_count": null,
   "id": "3571dbea",
   "metadata": {},
   "outputs": [],
   "source": [
    "\n",
    "    "
   ]
  },
  {
   "cell_type": "code",
   "execution_count": 23,
   "id": "145c992f",
   "metadata": {},
   "outputs": [
    {
     "name": "stdout",
     "output_type": "stream",
     "text": [
      "C:/Users/win-10/Desktop/Music Genre Classifier/Test/test.wav\n"
     ]
    },
    {
     "name": "stderr",
     "output_type": "stream",
     "text": [
      "WARNING:root:frame length (882) is greater than FFT size (512), frame will be truncated. Increase NFFT to avoid.\n"
     ]
    },
    {
     "name": "stdout",
     "output_type": "stream",
     "text": [
      "classical\n"
     ]
    }
   ],
   "source": [
    "from tkinter import *\n",
    "from tkinter import filedialog\n",
    "from tkinter.filedialog import askopenfile\n",
    "from collections import defaultdict\n",
    "\n",
    "class App:\n",
    "    def __init__(self, root, i):\n",
    "        self.root = root                     \n",
    "        self.file_name = \"\"\n",
    "        self.i = i\n",
    "        self.root.geometry(\"700x500\")\n",
    "        self.root.title(\"Music Genre Classification\")                  \n",
    "        lbl = Label(self.root, text=\"Music Genre Classification\", pady=10, bg=\"#60c6eb\", font=(\"goudy old style\", 24, \"bold\")).place(x=0, y=5, relwidth=1)\n",
    "        btn = Button(self.root, text=\"Upload File\", bg=\"#95b8ba\", font=(\"goudy old style\", 16, \"bold\"), command=self.upload).place(x=200, y=120)\n",
    "        btn = Button(self.root, text=\"Predict\", bg=\"#95b8ba\", font=(\"goudy old style\", 16, \"bold\"), command=self.predict).place(x=400, y=120)\n",
    "        \n",
    "        footer = Label(self.root, text=\"Music Genre Classification | Machine Learning Project\", font=(\"goudy old style\", 16, \"bold\"), bg=\"black\", fg=\"white\").pack(fill=X, side=BOTTOM)\n",
    "        \n",
    "    def upload(self):\n",
    "        f_types = [('Wav Files', '*.wav')]\n",
    "        self.file_name = filedialog.askopenfilename(filetypes=f_types)              \n",
    "        print(self.file_name)\n",
    "        file = Label(self.root, text=self.file_name, font=(\"goudy old style\", 14, \"bold\")).place(x=80, y=180) \n",
    "        \n",
    "    def predict(self):\n",
    "        (rate, sig) = wav.read(self.file_name)            \n",
    "        mfcc_feat = mfcc(sig, rate, winlen=0.020, appendEnergy=False)\n",
    "        covariance = np.cov(np.matrix.transpose(mfcc_feat))\n",
    "        mean_matrix = mfcc_feat.mean(0)\n",
    "        feature = (mean_matrix, covariance, self.i)\n",
    "        results = defaultdict(int)                     \n",
    "\n",
    "        directory = \"./Data/genres_original/\"\n",
    "\n",
    "        i = 1\n",
    "        for folder in os.listdir(directory):\n",
    "            results[i] = folder\n",
    "            i += 1\n",
    "        pred = nearestClass(getNeighbors(dataset, feature, 5))\n",
    "        print(results[pred])\n",
    "        resull_label = Label(self.root, text=f\"Result : {results[pred]}\", bd=2, relief=RIDGE, font=(\"goudy old style\", 24, \"bold\")).place(x=200, y=260)   \n",
    "if __name__=='__main__':\n",
    "    root = Tk()\n",
    "    obj = App(root, i)\n",
    "    root.mainloop()\n",
    "    "
   ]
  },
  {
   "cell_type": "code",
   "execution_count": null,
   "id": "7ec3affa",
   "metadata": {},
   "outputs": [],
   "source": []
  },
  {
   "cell_type": "code",
   "execution_count": null,
   "id": "87de17e5",
   "metadata": {},
   "outputs": [],
   "source": []
  }
 ],
 "metadata": {
  "kernelspec": {
   "display_name": "Python 3",
   "language": "python",
   "name": "python3"
  },
  "language_info": {
   "codemirror_mode": {
    "name": "ipython",
    "version": 3
   },
   "file_extension": ".py",
   "mimetype": "text/x-python",
   "name": "python",
   "nbconvert_exporter": "python",
   "pygments_lexer": "ipython3",
   "version": "3.8.8"
  }
 },
 "nbformat": 4,
 "nbformat_minor": 5
}
